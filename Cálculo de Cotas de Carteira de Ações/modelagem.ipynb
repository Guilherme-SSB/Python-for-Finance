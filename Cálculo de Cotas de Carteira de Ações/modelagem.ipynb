{
 "cells": [
  {
   "cell_type": "markdown",
   "source": [
    "# Cálculo de Rentabilidade de Portfolio - Cotização"
   ],
   "metadata": {
    "collapsed": false
   }
  },
  {
   "cell_type": "markdown",
   "source": [
    "## Configs iniciais"
   ],
   "metadata": {
    "collapsed": false
   }
  },
  {
   "cell_type": "code",
   "execution_count": 1,
   "outputs": [
    {
     "name": "stderr",
     "output_type": "stream",
     "text": [
      "WARNING: You are using pip version 21.3.1; however, version 22.2.2 is available.\n",
      "You should consider upgrading via the 'C:\\Users\\guisa\\Documents\\Github\\Processo Seletivo Brasil Capital\\virtual\\Scripts\\python.exe -m pip install --upgrade pip' command.\n"
     ]
    }
   ],
   "source": [
    "!pip -q install yfinance\n",
    "!pip install matplotlib"
   ],
   "metadata": {
    "collapsed": false,
    "pycharm": {
     "name": "#%%\n"
    }
   }
  },
  {
   "cell_type": "code",
   "execution_count": 5,
   "metadata": {
    "collapsed": true
   },
   "outputs": [],
   "source": [
    "import yfinance as yf\n",
    "import pandas as pd\n",
    "import numpy as np\n",
    "\n",
    "import matplotlib\n",
    "matplotlib.rcParams['figure.figsize'] = (18,8)\n",
    "# matplotlib.style.use('seaborn-darkgrid')"
   ]
  },
  {
   "cell_type": "markdown",
   "source": [
    "## Ler input"
   ],
   "metadata": {
    "collapsed": false
   }
  },
  {
   "cell_type": "code",
   "execution_count": 9,
   "outputs": [
    {
     "data": {
      "text/plain": "          data  ativo  quantidade  preço\n0   2020-04-22  vale3         100  43.30\n1   2020-04-22  petr4         200  16.25\n2   2020-04-22  itsa4         400   9.07\n3   2020-04-22  lren3         100  38.99\n4   2020-04-22  mglu3         100  52.30\n5   2020-05-12  vale3         100  48.52\n6   2020-05-12  petr4         200  18.73\n7   2020-05-12  itsa4         400   8.43\n8   2020-05-12  lren3         200  33.89\n9   2020-05-12  mglu3        2000  56.00\n10  2020-05-14  petr4         300  17.40\n11  2020-05-14  itsa4         400   8.23\n12  2020-05-14  lren3         200  32.31\n13  2020-05-14  cvcb3        1000  10.08\n14  2020-05-21  mglu3        -500  58.80",
      "text/html": "<div>\n<style scoped>\n    .dataframe tbody tr th:only-of-type {\n        vertical-align: middle;\n    }\n\n    .dataframe tbody tr th {\n        vertical-align: top;\n    }\n\n    .dataframe thead th {\n        text-align: right;\n    }\n</style>\n<table border=\"1\" class=\"dataframe\">\n  <thead>\n    <tr style=\"text-align: right;\">\n      <th></th>\n      <th>data</th>\n      <th>ativo</th>\n      <th>quantidade</th>\n      <th>preço</th>\n    </tr>\n  </thead>\n  <tbody>\n    <tr>\n      <th>0</th>\n      <td>2020-04-22</td>\n      <td>vale3</td>\n      <td>100</td>\n      <td>43.30</td>\n    </tr>\n    <tr>\n      <th>1</th>\n      <td>2020-04-22</td>\n      <td>petr4</td>\n      <td>200</td>\n      <td>16.25</td>\n    </tr>\n    <tr>\n      <th>2</th>\n      <td>2020-04-22</td>\n      <td>itsa4</td>\n      <td>400</td>\n      <td>9.07</td>\n    </tr>\n    <tr>\n      <th>3</th>\n      <td>2020-04-22</td>\n      <td>lren3</td>\n      <td>100</td>\n      <td>38.99</td>\n    </tr>\n    <tr>\n      <th>4</th>\n      <td>2020-04-22</td>\n      <td>mglu3</td>\n      <td>100</td>\n      <td>52.30</td>\n    </tr>\n    <tr>\n      <th>5</th>\n      <td>2020-05-12</td>\n      <td>vale3</td>\n      <td>100</td>\n      <td>48.52</td>\n    </tr>\n    <tr>\n      <th>6</th>\n      <td>2020-05-12</td>\n      <td>petr4</td>\n      <td>200</td>\n      <td>18.73</td>\n    </tr>\n    <tr>\n      <th>7</th>\n      <td>2020-05-12</td>\n      <td>itsa4</td>\n      <td>400</td>\n      <td>8.43</td>\n    </tr>\n    <tr>\n      <th>8</th>\n      <td>2020-05-12</td>\n      <td>lren3</td>\n      <td>200</td>\n      <td>33.89</td>\n    </tr>\n    <tr>\n      <th>9</th>\n      <td>2020-05-12</td>\n      <td>mglu3</td>\n      <td>2000</td>\n      <td>56.00</td>\n    </tr>\n    <tr>\n      <th>10</th>\n      <td>2020-05-14</td>\n      <td>petr4</td>\n      <td>300</td>\n      <td>17.40</td>\n    </tr>\n    <tr>\n      <th>11</th>\n      <td>2020-05-14</td>\n      <td>itsa4</td>\n      <td>400</td>\n      <td>8.23</td>\n    </tr>\n    <tr>\n      <th>12</th>\n      <td>2020-05-14</td>\n      <td>lren3</td>\n      <td>200</td>\n      <td>32.31</td>\n    </tr>\n    <tr>\n      <th>13</th>\n      <td>2020-05-14</td>\n      <td>cvcb3</td>\n      <td>1000</td>\n      <td>10.08</td>\n    </tr>\n    <tr>\n      <th>14</th>\n      <td>2020-05-21</td>\n      <td>mglu3</td>\n      <td>-500</td>\n      <td>58.80</td>\n    </tr>\n  </tbody>\n</table>\n</div>"
     },
     "execution_count": 9,
     "metadata": {},
     "output_type": "execute_result"
    }
   ],
   "source": [
    "arquivo = pd.read_csv('trades.csv')\n",
    "arquivo"
   ],
   "metadata": {
    "collapsed": false,
    "pycharm": {
     "name": "#%%\n"
    }
   }
  },
  {
   "cell_type": "markdown",
   "source": [
    "## Criando tabelas com os dados dos arquivos"
   ],
   "metadata": {
    "collapsed": false
   }
  },
  {
   "cell_type": "markdown",
   "source": [
    "### Criando tabela com colunas para cada ativo e indexando por data"
   ],
   "metadata": {
    "collapsed": false
   }
  },
  {
   "cell_type": "code",
   "execution_count": 40,
   "outputs": [
    {
     "data": {
      "text/plain": "ativo       CVCB3  ITSA4  LREN3  MGLU3  PETR4  VALE3\ndata                                                \n2020-04-22      0    400    100    100    200    100\n2020-05-12      0    400    200   2000    200    100\n2020-05-14   1000    400    200      0    300      0\n2020-05-21      0      0      0   -500      0      0",
      "text/html": "<div>\n<style scoped>\n    .dataframe tbody tr th:only-of-type {\n        vertical-align: middle;\n    }\n\n    .dataframe tbody tr th {\n        vertical-align: top;\n    }\n\n    .dataframe thead th {\n        text-align: right;\n    }\n</style>\n<table border=\"1\" class=\"dataframe\">\n  <thead>\n    <tr style=\"text-align: right;\">\n      <th>ativo</th>\n      <th>CVCB3</th>\n      <th>ITSA4</th>\n      <th>LREN3</th>\n      <th>MGLU3</th>\n      <th>PETR4</th>\n      <th>VALE3</th>\n    </tr>\n    <tr>\n      <th>data</th>\n      <th></th>\n      <th></th>\n      <th></th>\n      <th></th>\n      <th></th>\n      <th></th>\n    </tr>\n  </thead>\n  <tbody>\n    <tr>\n      <th>2020-04-22</th>\n      <td>0</td>\n      <td>400</td>\n      <td>100</td>\n      <td>100</td>\n      <td>200</td>\n      <td>100</td>\n    </tr>\n    <tr>\n      <th>2020-05-12</th>\n      <td>0</td>\n      <td>400</td>\n      <td>200</td>\n      <td>2000</td>\n      <td>200</td>\n      <td>100</td>\n    </tr>\n    <tr>\n      <th>2020-05-14</th>\n      <td>1000</td>\n      <td>400</td>\n      <td>200</td>\n      <td>0</td>\n      <td>300</td>\n      <td>0</td>\n    </tr>\n    <tr>\n      <th>2020-05-21</th>\n      <td>0</td>\n      <td>0</td>\n      <td>0</td>\n      <td>-500</td>\n      <td>0</td>\n      <td>0</td>\n    </tr>\n  </tbody>\n</table>\n</div>"
     },
     "execution_count": 40,
     "metadata": {},
     "output_type": "execute_result"
    }
   ],
   "source": [
    "trade_quant = pd.pivot_table(data=arquivo, values='quantidade', index=['data'], columns=arquivo['ativo'].str.upper(), aggfunc=np.sum, fill_value=0)\n",
    "trade_quant"
   ],
   "metadata": {
    "collapsed": false,
    "pycharm": {
     "name": "#%%\n"
    }
   }
  },
  {
   "cell_type": "markdown",
   "source": [
    "### Criando tabela com os preços de compra e venda"
   ],
   "metadata": {
    "collapsed": false
   }
  },
  {
   "cell_type": "code",
   "execution_count": 41,
   "outputs": [
    {
     "data": {
      "text/plain": "ativo       CVCB3  ITSA4  LREN3  MGLU3  PETR4  VALE3\ndata                                                \n2020-04-22   0.00   9.07  38.99   52.3  16.25  43.30\n2020-05-12   0.00   8.43  33.89   56.0  18.73  48.52\n2020-05-14  10.08   8.23  32.31    0.0  17.40   0.00\n2020-05-21   0.00   0.00   0.00   58.8   0.00   0.00",
      "text/html": "<div>\n<style scoped>\n    .dataframe tbody tr th:only-of-type {\n        vertical-align: middle;\n    }\n\n    .dataframe tbody tr th {\n        vertical-align: top;\n    }\n\n    .dataframe thead th {\n        text-align: right;\n    }\n</style>\n<table border=\"1\" class=\"dataframe\">\n  <thead>\n    <tr style=\"text-align: right;\">\n      <th>ativo</th>\n      <th>CVCB3</th>\n      <th>ITSA4</th>\n      <th>LREN3</th>\n      <th>MGLU3</th>\n      <th>PETR4</th>\n      <th>VALE3</th>\n    </tr>\n    <tr>\n      <th>data</th>\n      <th></th>\n      <th></th>\n      <th></th>\n      <th></th>\n      <th></th>\n      <th></th>\n    </tr>\n  </thead>\n  <tbody>\n    <tr>\n      <th>2020-04-22</th>\n      <td>0.00</td>\n      <td>9.07</td>\n      <td>38.99</td>\n      <td>52.3</td>\n      <td>16.25</td>\n      <td>43.30</td>\n    </tr>\n    <tr>\n      <th>2020-05-12</th>\n      <td>0.00</td>\n      <td>8.43</td>\n      <td>33.89</td>\n      <td>56.0</td>\n      <td>18.73</td>\n      <td>48.52</td>\n    </tr>\n    <tr>\n      <th>2020-05-14</th>\n      <td>10.08</td>\n      <td>8.23</td>\n      <td>32.31</td>\n      <td>0.0</td>\n      <td>17.40</td>\n      <td>0.00</td>\n    </tr>\n    <tr>\n      <th>2020-05-21</th>\n      <td>0.00</td>\n      <td>0.00</td>\n      <td>0.00</td>\n      <td>58.8</td>\n      <td>0.00</td>\n      <td>0.00</td>\n    </tr>\n  </tbody>\n</table>\n</div>"
     },
     "execution_count": 41,
     "metadata": {},
     "output_type": "execute_result"
    }
   ],
   "source": [
    "trade_price = pd.pivot_table(data=arquivo, values='preço', index=['data'], columns=arquivo['ativo'].str.upper(), fill_value=0)\n",
    "trade_price"
   ],
   "metadata": {
    "collapsed": false,
    "pycharm": {
     "name": "#%%\n"
    }
   }
  },
  {
   "cell_type": "markdown",
   "source": [
    "## Baixando as cotações dos ativos"
   ],
   "metadata": {
    "collapsed": false
   }
  },
  {
   "cell_type": "code",
   "execution_count": 59,
   "outputs": [
    {
     "name": "stdout",
     "output_type": "stream",
     "text": [
      "[*********************100%***********************]  6 of 6 completed\n"
     ]
    }
   ],
   "source": [
    "prices = yf.download(tickers=(trade_quant.columns+'.SA').to_list(), start=trade_quant.index[0], rounding=True)['Adj Close']"
   ],
   "metadata": {
    "collapsed": false,
    "pycharm": {
     "name": "#%%\n"
    }
   }
  },
  {
   "cell_type": "code",
   "execution_count": 60,
   "outputs": [
    {
     "data": {
      "text/plain": "            CVCB3  ITSA4  LREN3    MGLU3  PETR4  VALE3\nDate                                                  \n2020-04-22  13.97   7.77  39.28  12.5421   9.09  32.05\n2020-04-23  13.10   7.67  37.86  12.2742   9.20  32.50\n2020-04-24  11.28   7.29  36.16  11.7556   8.66  32.69\n2020-04-27  11.63   7.52  37.11  12.2816   8.93  33.28\n2020-04-28  13.31   8.05  38.60  12.8523   9.36  33.32\n...           ...    ...    ...      ...    ...    ...\n2022-08-09   7.07   9.30  26.86   3.0800  30.32  66.55\n2022-08-10   7.03   9.35  27.97   3.2900  30.22  66.60\n2022-08-11   6.94   9.32  27.24   3.0400  29.52  68.92\n2022-08-12   7.15   9.44  27.69   3.5800  31.71  69.80\n2022-08-15   7.83   9.45  28.63   4.0400  31.72  68.30\n\n[576 rows x 6 columns]",
      "text/html": "<div>\n<style scoped>\n    .dataframe tbody tr th:only-of-type {\n        vertical-align: middle;\n    }\n\n    .dataframe tbody tr th {\n        vertical-align: top;\n    }\n\n    .dataframe thead th {\n        text-align: right;\n    }\n</style>\n<table border=\"1\" class=\"dataframe\">\n  <thead>\n    <tr style=\"text-align: right;\">\n      <th></th>\n      <th>CVCB3</th>\n      <th>ITSA4</th>\n      <th>LREN3</th>\n      <th>MGLU3</th>\n      <th>PETR4</th>\n      <th>VALE3</th>\n    </tr>\n    <tr>\n      <th>Date</th>\n      <th></th>\n      <th></th>\n      <th></th>\n      <th></th>\n      <th></th>\n      <th></th>\n    </tr>\n  </thead>\n  <tbody>\n    <tr>\n      <th>2020-04-22</th>\n      <td>13.97</td>\n      <td>7.77</td>\n      <td>39.28</td>\n      <td>12.5421</td>\n      <td>9.09</td>\n      <td>32.05</td>\n    </tr>\n    <tr>\n      <th>2020-04-23</th>\n      <td>13.10</td>\n      <td>7.67</td>\n      <td>37.86</td>\n      <td>12.2742</td>\n      <td>9.20</td>\n      <td>32.50</td>\n    </tr>\n    <tr>\n      <th>2020-04-24</th>\n      <td>11.28</td>\n      <td>7.29</td>\n      <td>36.16</td>\n      <td>11.7556</td>\n      <td>8.66</td>\n      <td>32.69</td>\n    </tr>\n    <tr>\n      <th>2020-04-27</th>\n      <td>11.63</td>\n      <td>7.52</td>\n      <td>37.11</td>\n      <td>12.2816</td>\n      <td>8.93</td>\n      <td>33.28</td>\n    </tr>\n    <tr>\n      <th>2020-04-28</th>\n      <td>13.31</td>\n      <td>8.05</td>\n      <td>38.60</td>\n      <td>12.8523</td>\n      <td>9.36</td>\n      <td>33.32</td>\n    </tr>\n    <tr>\n      <th>...</th>\n      <td>...</td>\n      <td>...</td>\n      <td>...</td>\n      <td>...</td>\n      <td>...</td>\n      <td>...</td>\n    </tr>\n    <tr>\n      <th>2022-08-09</th>\n      <td>7.07</td>\n      <td>9.30</td>\n      <td>26.86</td>\n      <td>3.0800</td>\n      <td>30.32</td>\n      <td>66.55</td>\n    </tr>\n    <tr>\n      <th>2022-08-10</th>\n      <td>7.03</td>\n      <td>9.35</td>\n      <td>27.97</td>\n      <td>3.2900</td>\n      <td>30.22</td>\n      <td>66.60</td>\n    </tr>\n    <tr>\n      <th>2022-08-11</th>\n      <td>6.94</td>\n      <td>9.32</td>\n      <td>27.24</td>\n      <td>3.0400</td>\n      <td>29.52</td>\n      <td>68.92</td>\n    </tr>\n    <tr>\n      <th>2022-08-12</th>\n      <td>7.15</td>\n      <td>9.44</td>\n      <td>27.69</td>\n      <td>3.5800</td>\n      <td>31.71</td>\n      <td>69.80</td>\n    </tr>\n    <tr>\n      <th>2022-08-15</th>\n      <td>7.83</td>\n      <td>9.45</td>\n      <td>28.63</td>\n      <td>4.0400</td>\n      <td>31.72</td>\n      <td>68.30</td>\n    </tr>\n  </tbody>\n</table>\n<p>576 rows × 6 columns</p>\n</div>"
     },
     "execution_count": 60,
     "metadata": {},
     "output_type": "execute_result"
    }
   ],
   "source": [
    "prices.columns  = prices.columns.str.rstrip('.SA')\n",
    "prices.dropna(how='all', inplace=True)\n",
    "prices"
   ],
   "metadata": {
    "collapsed": false,
    "pycharm": {
     "name": "#%%\n"
    }
   }
  },
  {
   "cell_type": "code",
   "execution_count": 74,
   "outputs": [
    {
     "data": {
      "text/plain": "ativo       CVCB3  ITSA4  LREN3  MGLU3  PETR4  VALE3\ndata                                                \n2020-04-22    0.0  400.0  100.0  100.0  200.0  100.0\n2020-04-23    0.0    0.0    0.0    0.0    0.0    0.0\n2020-04-24    0.0    0.0    0.0    0.0    0.0    0.0\n2020-04-27    0.0    0.0    0.0    0.0    0.0    0.0\n2020-04-28    0.0    0.0    0.0    0.0    0.0    0.0\n...           ...    ...    ...    ...    ...    ...\n2022-08-09    0.0    0.0    0.0    0.0    0.0    0.0\n2022-08-10    0.0    0.0    0.0    0.0    0.0    0.0\n2022-08-11    0.0    0.0    0.0    0.0    0.0    0.0\n2022-08-12    0.0    0.0    0.0    0.0    0.0    0.0\n2022-08-15    0.0    0.0    0.0    0.0    0.0    0.0\n\n[576 rows x 6 columns]",
      "text/html": "<div>\n<style scoped>\n    .dataframe tbody tr th:only-of-type {\n        vertical-align: middle;\n    }\n\n    .dataframe tbody tr th {\n        vertical-align: top;\n    }\n\n    .dataframe thead th {\n        text-align: right;\n    }\n</style>\n<table border=\"1\" class=\"dataframe\">\n  <thead>\n    <tr style=\"text-align: right;\">\n      <th>ativo</th>\n      <th>CVCB3</th>\n      <th>ITSA4</th>\n      <th>LREN3</th>\n      <th>MGLU3</th>\n      <th>PETR4</th>\n      <th>VALE3</th>\n    </tr>\n    <tr>\n      <th>data</th>\n      <th></th>\n      <th></th>\n      <th></th>\n      <th></th>\n      <th></th>\n      <th></th>\n    </tr>\n  </thead>\n  <tbody>\n    <tr>\n      <th>2020-04-22</th>\n      <td>0.0</td>\n      <td>400.0</td>\n      <td>100.0</td>\n      <td>100.0</td>\n      <td>200.0</td>\n      <td>100.0</td>\n    </tr>\n    <tr>\n      <th>2020-04-23</th>\n      <td>0.0</td>\n      <td>0.0</td>\n      <td>0.0</td>\n      <td>0.0</td>\n      <td>0.0</td>\n      <td>0.0</td>\n    </tr>\n    <tr>\n      <th>2020-04-24</th>\n      <td>0.0</td>\n      <td>0.0</td>\n      <td>0.0</td>\n      <td>0.0</td>\n      <td>0.0</td>\n      <td>0.0</td>\n    </tr>\n    <tr>\n      <th>2020-04-27</th>\n      <td>0.0</td>\n      <td>0.0</td>\n      <td>0.0</td>\n      <td>0.0</td>\n      <td>0.0</td>\n      <td>0.0</td>\n    </tr>\n    <tr>\n      <th>2020-04-28</th>\n      <td>0.0</td>\n      <td>0.0</td>\n      <td>0.0</td>\n      <td>0.0</td>\n      <td>0.0</td>\n      <td>0.0</td>\n    </tr>\n    <tr>\n      <th>...</th>\n      <td>...</td>\n      <td>...</td>\n      <td>...</td>\n      <td>...</td>\n      <td>...</td>\n      <td>...</td>\n    </tr>\n    <tr>\n      <th>2022-08-09</th>\n      <td>0.0</td>\n      <td>0.0</td>\n      <td>0.0</td>\n      <td>0.0</td>\n      <td>0.0</td>\n      <td>0.0</td>\n    </tr>\n    <tr>\n      <th>2022-08-10</th>\n      <td>0.0</td>\n      <td>0.0</td>\n      <td>0.0</td>\n      <td>0.0</td>\n      <td>0.0</td>\n      <td>0.0</td>\n    </tr>\n    <tr>\n      <th>2022-08-11</th>\n      <td>0.0</td>\n      <td>0.0</td>\n      <td>0.0</td>\n      <td>0.0</td>\n      <td>0.0</td>\n      <td>0.0</td>\n    </tr>\n    <tr>\n      <th>2022-08-12</th>\n      <td>0.0</td>\n      <td>0.0</td>\n      <td>0.0</td>\n      <td>0.0</td>\n      <td>0.0</td>\n      <td>0.0</td>\n    </tr>\n    <tr>\n      <th>2022-08-15</th>\n      <td>0.0</td>\n      <td>0.0</td>\n      <td>0.0</td>\n      <td>0.0</td>\n      <td>0.0</td>\n      <td>0.0</td>\n    </tr>\n  </tbody>\n</table>\n<p>576 rows × 6 columns</p>\n</div>"
     },
     "execution_count": 74,
     "metadata": {},
     "output_type": "execute_result"
    }
   ],
   "source": [
    "trades = trade_quant.reindex(index=prices.index.astype(str).to_list())\n",
    "trades.fillna(value=0, inplace=True)\n",
    "trades"
   ],
   "metadata": {
    "collapsed": false,
    "pycharm": {
     "name": "#%%\n"
    }
   }
  },
  {
   "cell_type": "code",
   "execution_count": 88,
   "outputs": [
    {
     "data": {
      "text/plain": "ativo       CVCB3  ITSA4  LREN3  MGLU3  PETR4  VALE3\ndata                                                \n2020-04-22    0.0  400.0  100.0  100.0  200.0  100.0\n2020-04-23    0.0    0.0    0.0    0.0    0.0    0.0\n2020-04-24    0.0    0.0    0.0    0.0    0.0    0.0\n2020-04-27    0.0    0.0    0.0    0.0    0.0    0.0\n2020-04-28    0.0    0.0    0.0    0.0    0.0    0.0\n...           ...    ...    ...    ...    ...    ...\n2022-08-09    0.0    0.0    0.0    0.0    0.0    0.0\n2022-08-10    0.0    0.0    0.0    0.0    0.0    0.0\n2022-08-11    0.0    0.0    0.0    0.0    0.0    0.0\n2022-08-12    0.0    0.0    0.0    0.0    0.0    0.0\n2022-08-15    0.0    0.0    0.0    0.0    0.0    0.0\n\n[576 rows x 6 columns]",
      "text/html": "<div>\n<style scoped>\n    .dataframe tbody tr th:only-of-type {\n        vertical-align: middle;\n    }\n\n    .dataframe tbody tr th {\n        vertical-align: top;\n    }\n\n    .dataframe thead th {\n        text-align: right;\n    }\n</style>\n<table border=\"1\" class=\"dataframe\">\n  <thead>\n    <tr style=\"text-align: right;\">\n      <th>ativo</th>\n      <th>CVCB3</th>\n      <th>ITSA4</th>\n      <th>LREN3</th>\n      <th>MGLU3</th>\n      <th>PETR4</th>\n      <th>VALE3</th>\n    </tr>\n    <tr>\n      <th>data</th>\n      <th></th>\n      <th></th>\n      <th></th>\n      <th></th>\n      <th></th>\n      <th></th>\n    </tr>\n  </thead>\n  <tbody>\n    <tr>\n      <th>2020-04-22</th>\n      <td>0.0</td>\n      <td>400.0</td>\n      <td>100.0</td>\n      <td>100.0</td>\n      <td>200.0</td>\n      <td>100.0</td>\n    </tr>\n    <tr>\n      <th>2020-04-23</th>\n      <td>0.0</td>\n      <td>0.0</td>\n      <td>0.0</td>\n      <td>0.0</td>\n      <td>0.0</td>\n      <td>0.0</td>\n    </tr>\n    <tr>\n      <th>2020-04-24</th>\n      <td>0.0</td>\n      <td>0.0</td>\n      <td>0.0</td>\n      <td>0.0</td>\n      <td>0.0</td>\n      <td>0.0</td>\n    </tr>\n    <tr>\n      <th>2020-04-27</th>\n      <td>0.0</td>\n      <td>0.0</td>\n      <td>0.0</td>\n      <td>0.0</td>\n      <td>0.0</td>\n      <td>0.0</td>\n    </tr>\n    <tr>\n      <th>2020-04-28</th>\n      <td>0.0</td>\n      <td>0.0</td>\n      <td>0.0</td>\n      <td>0.0</td>\n      <td>0.0</td>\n      <td>0.0</td>\n    </tr>\n    <tr>\n      <th>...</th>\n      <td>...</td>\n      <td>...</td>\n      <td>...</td>\n      <td>...</td>\n      <td>...</td>\n      <td>...</td>\n    </tr>\n    <tr>\n      <th>2022-08-09</th>\n      <td>0.0</td>\n      <td>0.0</td>\n      <td>0.0</td>\n      <td>0.0</td>\n      <td>0.0</td>\n      <td>0.0</td>\n    </tr>\n    <tr>\n      <th>2022-08-10</th>\n      <td>0.0</td>\n      <td>0.0</td>\n      <td>0.0</td>\n      <td>0.0</td>\n      <td>0.0</td>\n      <td>0.0</td>\n    </tr>\n    <tr>\n      <th>2022-08-11</th>\n      <td>0.0</td>\n      <td>0.0</td>\n      <td>0.0</td>\n      <td>0.0</td>\n      <td>0.0</td>\n      <td>0.0</td>\n    </tr>\n    <tr>\n      <th>2022-08-12</th>\n      <td>0.0</td>\n      <td>0.0</td>\n      <td>0.0</td>\n      <td>0.0</td>\n      <td>0.0</td>\n      <td>0.0</td>\n    </tr>\n    <tr>\n      <th>2022-08-15</th>\n      <td>0.0</td>\n      <td>0.0</td>\n      <td>0.0</td>\n      <td>0.0</td>\n      <td>0.0</td>\n      <td>0.0</td>\n    </tr>\n  </tbody>\n</table>\n<p>576 rows × 6 columns</p>\n</div>"
     },
     "execution_count": 88,
     "metadata": {},
     "output_type": "execute_result"
    }
   ],
   "source": [
    "trades"
   ],
   "metadata": {
    "collapsed": false,
    "pycharm": {
     "name": "#%%\n"
    }
   }
  },
  {
   "cell_type": "code",
   "execution_count": 89,
   "outputs": [
    {
     "data": {
      "text/plain": "ativo       CVCB3  ITSA4  LREN3  MGLU3  PETR4  VALE3\ndata                                                \n2020-04-22   0.00   9.07  38.99   52.3  16.25  43.30\n2020-05-12   0.00   8.43  33.89   56.0  18.73  48.52\n2020-05-14  10.08   8.23  32.31    0.0  17.40   0.00\n2020-05-21   0.00   0.00   0.00   58.8   0.00   0.00",
      "text/html": "<div>\n<style scoped>\n    .dataframe tbody tr th:only-of-type {\n        vertical-align: middle;\n    }\n\n    .dataframe tbody tr th {\n        vertical-align: top;\n    }\n\n    .dataframe thead th {\n        text-align: right;\n    }\n</style>\n<table border=\"1\" class=\"dataframe\">\n  <thead>\n    <tr style=\"text-align: right;\">\n      <th>ativo</th>\n      <th>CVCB3</th>\n      <th>ITSA4</th>\n      <th>LREN3</th>\n      <th>MGLU3</th>\n      <th>PETR4</th>\n      <th>VALE3</th>\n    </tr>\n    <tr>\n      <th>data</th>\n      <th></th>\n      <th></th>\n      <th></th>\n      <th></th>\n      <th></th>\n      <th></th>\n    </tr>\n  </thead>\n  <tbody>\n    <tr>\n      <th>2020-04-22</th>\n      <td>0.00</td>\n      <td>9.07</td>\n      <td>38.99</td>\n      <td>52.3</td>\n      <td>16.25</td>\n      <td>43.30</td>\n    </tr>\n    <tr>\n      <th>2020-05-12</th>\n      <td>0.00</td>\n      <td>8.43</td>\n      <td>33.89</td>\n      <td>56.0</td>\n      <td>18.73</td>\n      <td>48.52</td>\n    </tr>\n    <tr>\n      <th>2020-05-14</th>\n      <td>10.08</td>\n      <td>8.23</td>\n      <td>32.31</td>\n      <td>0.0</td>\n      <td>17.40</td>\n      <td>0.00</td>\n    </tr>\n    <tr>\n      <th>2020-05-21</th>\n      <td>0.00</td>\n      <td>0.00</td>\n      <td>0.00</td>\n      <td>58.8</td>\n      <td>0.00</td>\n      <td>0.00</td>\n    </tr>\n  </tbody>\n</table>\n</div>"
     },
     "execution_count": 89,
     "metadata": {},
     "output_type": "execute_result"
    }
   ],
   "source": [
    "trade_price"
   ],
   "metadata": {
    "collapsed": false,
    "pycharm": {
     "name": "#%%\n"
    }
   }
  },
  {
   "cell_type": "code",
   "execution_count": 86,
   "outputs": [
    {
     "data": {
      "text/plain": "ativo       CVCB3   ITSA4   LREN3   MGLU3   PETR4   VALE3\ndata                                                     \n2020-04-22    0.0  3628.0  3899.0  5230.0  3250.0  4330.0\n2020-04-23    NaN     NaN     NaN     NaN     NaN     NaN\n2020-04-24    NaN     NaN     NaN     NaN     NaN     NaN\n2020-04-27    NaN     NaN     NaN     NaN     NaN     NaN\n2020-04-28    NaN     NaN     NaN     NaN     NaN     NaN\n...           ...     ...     ...     ...     ...     ...\n2022-08-09    NaN     NaN     NaN     NaN     NaN     NaN\n2022-08-10    NaN     NaN     NaN     NaN     NaN     NaN\n2022-08-11    NaN     NaN     NaN     NaN     NaN     NaN\n2022-08-12    NaN     NaN     NaN     NaN     NaN     NaN\n2022-08-15    NaN     NaN     NaN     NaN     NaN     NaN\n\n[576 rows x 6 columns]",
      "text/html": "<div>\n<style scoped>\n    .dataframe tbody tr th:only-of-type {\n        vertical-align: middle;\n    }\n\n    .dataframe tbody tr th {\n        vertical-align: top;\n    }\n\n    .dataframe thead th {\n        text-align: right;\n    }\n</style>\n<table border=\"1\" class=\"dataframe\">\n  <thead>\n    <tr style=\"text-align: right;\">\n      <th>ativo</th>\n      <th>CVCB3</th>\n      <th>ITSA4</th>\n      <th>LREN3</th>\n      <th>MGLU3</th>\n      <th>PETR4</th>\n      <th>VALE3</th>\n    </tr>\n    <tr>\n      <th>data</th>\n      <th></th>\n      <th></th>\n      <th></th>\n      <th></th>\n      <th></th>\n      <th></th>\n    </tr>\n  </thead>\n  <tbody>\n    <tr>\n      <th>2020-04-22</th>\n      <td>0.0</td>\n      <td>3628.0</td>\n      <td>3899.0</td>\n      <td>5230.0</td>\n      <td>3250.0</td>\n      <td>4330.0</td>\n    </tr>\n    <tr>\n      <th>2020-04-23</th>\n      <td>NaN</td>\n      <td>NaN</td>\n      <td>NaN</td>\n      <td>NaN</td>\n      <td>NaN</td>\n      <td>NaN</td>\n    </tr>\n    <tr>\n      <th>2020-04-24</th>\n      <td>NaN</td>\n      <td>NaN</td>\n      <td>NaN</td>\n      <td>NaN</td>\n      <td>NaN</td>\n      <td>NaN</td>\n    </tr>\n    <tr>\n      <th>2020-04-27</th>\n      <td>NaN</td>\n      <td>NaN</td>\n      <td>NaN</td>\n      <td>NaN</td>\n      <td>NaN</td>\n      <td>NaN</td>\n    </tr>\n    <tr>\n      <th>2020-04-28</th>\n      <td>NaN</td>\n      <td>NaN</td>\n      <td>NaN</td>\n      <td>NaN</td>\n      <td>NaN</td>\n      <td>NaN</td>\n    </tr>\n    <tr>\n      <th>...</th>\n      <td>...</td>\n      <td>...</td>\n      <td>...</td>\n      <td>...</td>\n      <td>...</td>\n      <td>...</td>\n    </tr>\n    <tr>\n      <th>2022-08-09</th>\n      <td>NaN</td>\n      <td>NaN</td>\n      <td>NaN</td>\n      <td>NaN</td>\n      <td>NaN</td>\n      <td>NaN</td>\n    </tr>\n    <tr>\n      <th>2022-08-10</th>\n      <td>NaN</td>\n      <td>NaN</td>\n      <td>NaN</td>\n      <td>NaN</td>\n      <td>NaN</td>\n      <td>NaN</td>\n    </tr>\n    <tr>\n      <th>2022-08-11</th>\n      <td>NaN</td>\n      <td>NaN</td>\n      <td>NaN</td>\n      <td>NaN</td>\n      <td>NaN</td>\n      <td>NaN</td>\n    </tr>\n    <tr>\n      <th>2022-08-12</th>\n      <td>NaN</td>\n      <td>NaN</td>\n      <td>NaN</td>\n      <td>NaN</td>\n      <td>NaN</td>\n      <td>NaN</td>\n    </tr>\n    <tr>\n      <th>2022-08-15</th>\n      <td>NaN</td>\n      <td>NaN</td>\n      <td>NaN</td>\n      <td>NaN</td>\n      <td>NaN</td>\n      <td>NaN</td>\n    </tr>\n  </tbody>\n</table>\n<p>576 rows × 6 columns</p>\n</div>"
     },
     "execution_count": 86,
     "metadata": {},
     "output_type": "execute_result"
    }
   ],
   "source": [
    "aportes = (trades * trade_price)\n",
    "aportes"
   ],
   "metadata": {
    "collapsed": false,
    "pycharm": {
     "name": "#%%\n"
    }
   }
  },
  {
   "cell_type": "code",
   "execution_count": 92,
   "outputs": [
    {
     "data": {
      "text/plain": "ativo       CVCB3   ITSA4   LREN3   MGLU3   PETR4   VALE3\ndata                                                     \n2020-04-22    0.0  3628.0  3899.0  5230.0  3250.0  4330.0\n2020-04-23    NaN     NaN     NaN     NaN     NaN     NaN\n2020-04-24    NaN     NaN     NaN     NaN     NaN     NaN\n2020-04-27    NaN     NaN     NaN     NaN     NaN     NaN\n2020-04-28    NaN     NaN     NaN     NaN     NaN     NaN\n...           ...     ...     ...     ...     ...     ...\n2022-08-09    NaN     NaN     NaN     NaN     NaN     NaN\n2022-08-10    NaN     NaN     NaN     NaN     NaN     NaN\n2022-08-11    NaN     NaN     NaN     NaN     NaN     NaN\n2022-08-12    NaN     NaN     NaN     NaN     NaN     NaN\n2022-08-15    NaN     NaN     NaN     NaN     NaN     NaN\n\n[576 rows x 6 columns]",
      "text/html": "<div>\n<style scoped>\n    .dataframe tbody tr th:only-of-type {\n        vertical-align: middle;\n    }\n\n    .dataframe tbody tr th {\n        vertical-align: top;\n    }\n\n    .dataframe thead th {\n        text-align: right;\n    }\n</style>\n<table border=\"1\" class=\"dataframe\">\n  <thead>\n    <tr style=\"text-align: right;\">\n      <th>ativo</th>\n      <th>CVCB3</th>\n      <th>ITSA4</th>\n      <th>LREN3</th>\n      <th>MGLU3</th>\n      <th>PETR4</th>\n      <th>VALE3</th>\n    </tr>\n    <tr>\n      <th>data</th>\n      <th></th>\n      <th></th>\n      <th></th>\n      <th></th>\n      <th></th>\n      <th></th>\n    </tr>\n  </thead>\n  <tbody>\n    <tr>\n      <th>2020-04-22</th>\n      <td>0.0</td>\n      <td>3628.0</td>\n      <td>3899.0</td>\n      <td>5230.0</td>\n      <td>3250.0</td>\n      <td>4330.0</td>\n    </tr>\n    <tr>\n      <th>2020-04-23</th>\n      <td>NaN</td>\n      <td>NaN</td>\n      <td>NaN</td>\n      <td>NaN</td>\n      <td>NaN</td>\n      <td>NaN</td>\n    </tr>\n    <tr>\n      <th>2020-04-24</th>\n      <td>NaN</td>\n      <td>NaN</td>\n      <td>NaN</td>\n      <td>NaN</td>\n      <td>NaN</td>\n      <td>NaN</td>\n    </tr>\n    <tr>\n      <th>2020-04-27</th>\n      <td>NaN</td>\n      <td>NaN</td>\n      <td>NaN</td>\n      <td>NaN</td>\n      <td>NaN</td>\n      <td>NaN</td>\n    </tr>\n    <tr>\n      <th>2020-04-28</th>\n      <td>NaN</td>\n      <td>NaN</td>\n      <td>NaN</td>\n      <td>NaN</td>\n      <td>NaN</td>\n      <td>NaN</td>\n    </tr>\n    <tr>\n      <th>...</th>\n      <td>...</td>\n      <td>...</td>\n      <td>...</td>\n      <td>...</td>\n      <td>...</td>\n      <td>...</td>\n    </tr>\n    <tr>\n      <th>2022-08-09</th>\n      <td>NaN</td>\n      <td>NaN</td>\n      <td>NaN</td>\n      <td>NaN</td>\n      <td>NaN</td>\n      <td>NaN</td>\n    </tr>\n    <tr>\n      <th>2022-08-10</th>\n      <td>NaN</td>\n      <td>NaN</td>\n      <td>NaN</td>\n      <td>NaN</td>\n      <td>NaN</td>\n      <td>NaN</td>\n    </tr>\n    <tr>\n      <th>2022-08-11</th>\n      <td>NaN</td>\n      <td>NaN</td>\n      <td>NaN</td>\n      <td>NaN</td>\n      <td>NaN</td>\n      <td>NaN</td>\n    </tr>\n    <tr>\n      <th>2022-08-12</th>\n      <td>NaN</td>\n      <td>NaN</td>\n      <td>NaN</td>\n      <td>NaN</td>\n      <td>NaN</td>\n      <td>NaN</td>\n    </tr>\n    <tr>\n      <th>2022-08-15</th>\n      <td>NaN</td>\n      <td>NaN</td>\n      <td>NaN</td>\n      <td>NaN</td>\n      <td>NaN</td>\n      <td>NaN</td>\n    </tr>\n  </tbody>\n</table>\n<p>576 rows × 6 columns</p>\n</div>"
     },
     "execution_count": 92,
     "metadata": {},
     "output_type": "execute_result"
    }
   ],
   "source": [
    "aportes"
   ],
   "metadata": {
    "collapsed": false,
    "pycharm": {
     "name": "#%%\n"
    }
   }
  }
 ],
 "metadata": {
  "kernelspec": {
   "display_name": "Python 3",
   "language": "python",
   "name": "python3"
  },
  "language_info": {
   "codemirror_mode": {
    "name": "ipython",
    "version": 2
   },
   "file_extension": ".py",
   "mimetype": "text/x-python",
   "name": "python",
   "nbconvert_exporter": "python",
   "pygments_lexer": "ipython2",
   "version": "2.7.6"
  }
 },
 "nbformat": 4,
 "nbformat_minor": 0
}